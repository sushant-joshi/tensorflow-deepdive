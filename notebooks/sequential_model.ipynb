{
 "cells": [
  {
   "cell_type": "markdown",
   "metadata": {},
   "source": [
    "## Simple Sequential Model using Tensorflow and Keras"
   ]
  },
  {
   "cell_type": "code",
   "execution_count": 1,
   "metadata": {},
   "outputs": [
    {
     "name": "stderr",
     "output_type": "stream",
     "text": [
      "2023-12-15 13:04:10.158075: I tensorflow/core/platform/cpu_feature_guard.cc:182] This TensorFlow binary is optimized to use available CPU instructions in performance-critical operations.\n",
      "To enable the following instructions: AVX2 FMA, in other operations, rebuild TensorFlow with the appropriate compiler flags.\n"
     ]
    }
   ],
   "source": [
    "from tensorflow.keras.datasets import mnist\n",
    "from tensorflow import keras\n",
    "import numpy as np"
   ]
  },
  {
   "cell_type": "markdown",
   "metadata": {},
   "source": [
    "#### STEP 0: Collect and prepare data"
   ]
  },
  {
   "cell_type": "code",
   "execution_count": 2,
   "metadata": {},
   "outputs": [],
   "source": [
    "(train_images, train_labels) , (test_images, test_labels) = mnist.load_data()"
   ]
  },
  {
   "cell_type": "code",
   "execution_count": 3,
   "metadata": {},
   "outputs": [
    {
     "data": {
      "text/plain": [
       "(60000, 28, 28)"
      ]
     },
     "execution_count": 3,
     "metadata": {},
     "output_type": "execute_result"
    }
   ],
   "source": [
    "train_images.shape"
   ]
  },
  {
   "cell_type": "code",
   "execution_count": 4,
   "metadata": {},
   "outputs": [
    {
     "data": {
      "text/plain": [
       "(10000, 28, 28)"
      ]
     },
     "execution_count": 4,
     "metadata": {},
     "output_type": "execute_result"
    }
   ],
   "source": [
    "test_images.shape"
   ]
  },
  {
   "cell_type": "code",
   "execution_count": 5,
   "metadata": {},
   "outputs": [],
   "source": [
    "train_images = train_images.reshape((60000, 28*28))\n",
    "train_images = train_images.astype(\"float32\") / 255\n",
    "\n",
    "test_images = test_images.reshape((10000, 28*28))\n",
    "test_images = test_images.astype(\"float32\") / 255"
   ]
  },
  {
   "cell_type": "markdown",
   "metadata": {},
   "source": [
    "#### STEP 1: DEFINE SEQUENTIAL MODEL\n",
    "\n",
    "The model is defined using the `Sequential` model API which is a linear stack of layers. You can create a `Sequential` model and add configurable layers to it in a linear stack.\n",
    "\n",
    "Here's a breakdown of the code:\n",
    "\n",
    "1. `model = keras.Sequential()`: This line initializes a new sequential model. A sequential model is appropriate for a plain stack of layers where each layer has exactly one input tensor and one output tensor.\n",
    "\n",
    "2. `model.add(keras.layers.Dense(512, activation='relu', input_shape=(28*28,)))`: This line adds a densely connected (also known as fully connected) layer to the model. The layer has 512 neurons, and uses the ReLU (Rectified Linear Unit) activation function. The `input_shape` parameter indicates that each input sample is an array of length 28*28 (which is 784). This could be, for example, a flattened 28x28 pixel grayscale image.\n",
    "\n",
    "3. `model.add(keras.layers.Dense(10, activation='softmax'))`: This line adds another densely connected layer, but this one has only 10 neurons. This is the output layer of the model. The softmax activation function is used here, which means that the model will output a probability distribution over the 10 output classes, meaning the output for each sample is a 10-element vector of probabilities summing to 1. Each class's probability is the model's confidence that the input sample belongs to that class.\n",
    "\n",
    "In summary, this code defines a simple two-layer neural network with a fully connected hidden layer with 512 neurons and a fully connected output layer with 10 neurons. The hidden layer uses ReLU as the activation function, and the output layer uses softmax."
   ]
  },
  {
   "cell_type": "code",
   "execution_count": 6,
   "metadata": {},
   "outputs": [],
   "source": [
    "model = keras.Sequential()\n",
    "\n",
    "model.add(keras.layers.Dense(512, activation='relu', input_shape=(28*28,)))\n",
    "model.add(keras.layers.Dense(10, activation='softmax'))"
   ]
  },
  {
   "cell_type": "markdown",
   "metadata": {},
   "source": [
    "#### STEP 2: COMPILE MODEL\n",
    "\n",
    "The `model.compile()` function is used to configure the learning process before training the model. It takes three main arguments: `optimizer`, `loss`, and `metrics`.\n",
    "\n",
    "1. `optimizer`: This is the strategy that the model will use to find the minimum of the loss function. In this case, 'rmsprop' is used. RMSprop (Root Mean Square Propagation) is an optimizer that utilizes the magnitude of the recent gradient descents to normalize the gradient. It's a popular choice for recurrent neural networks.\n",
    "\n",
    "2. `loss`: This is the function that the model will try to minimize. It's a way to measure how far the model's predictions are from the actual data. Here, \"sparse_categorical_crossentropy\" is used, which is appropriate for multi-class classification problems where each instance belongs to a single class and the classes are mutually exclusive.\n",
    "\n",
    "3. `metrics`: These are the metrics used to evaluate the performance of your model. It's not used during the training process but is used to judge the performance of your model. In this case, 'accuracy' is used, which calculates how often the predictions given by the model are correct.\n",
    "\n",
    "In summary, this code is preparing a neural network model for training by setting the optimizer, loss function, and evaluation metrics."
   ]
  },
  {
   "cell_type": "code",
   "execution_count": 7,
   "metadata": {},
   "outputs": [],
   "source": [
    "model.compile(optimizer='rmsprop',\n",
    "              loss=\"sparse_categorical_crossentropy\",\n",
    "              metrics=['accuracy'])"
   ]
  },
  {
   "cell_type": "markdown",
   "metadata": {},
   "source": [
    "#### STEP 3: FIT MODEL ON TRAINING DATA\n",
    "\n",
    "The `model.fit()` function is used to train the model for a fixed number of epochs (iterations on a dataset).\n",
    "\n",
    "The first two parameters, `train_images` and `train_labels`, are the training data. `train_images` is the input data for the model, and `train_labels` are the labels or the expected output for the training data. The model uses this data to learn the relationship between the input and the output.\n",
    "\n",
    "The `epochs=5` parameter specifies the number of epochs, which is the number of complete passes through the entire training dataset. Here, the model is trained for 5 epochs, meaning the entire dataset is passed forward and backward through the neural network five times.\n",
    "\n",
    "The `batch_size=128` parameter is the number of samples per gradient update. The model weights are updated after propagation of 128 samples.\n",
    "\n",
    "The `validation_split=0.2` parameter specifies the fraction of the training data to be used as validation data. The model will set apart this fraction of the training data, will not train on it, and will evaluate the loss and any model metrics on this data at the end of each epoch. Here, 20% of the data will be used for validation.\n",
    "\n",
    "In summary, this code is training a neural network model using the training data (`train_images` and `train_labels`), for a specified number of epochs (5), with a specified batch size (128), and using a portion of the training data for validation (20%). The training progress is displayed as a progress bar (due to `verbose=1`)."
   ]
  },
  {
   "cell_type": "code",
   "execution_count": 8,
   "metadata": {},
   "outputs": [
    {
     "name": "stdout",
     "output_type": "stream",
     "text": [
      "Epoch 1/5\n",
      "375/375 [==============================] - 3s 6ms/step - loss: 0.2933 - accuracy: 0.9166 - val_loss: 0.1626 - val_accuracy: 0.9511\n",
      "Epoch 2/5\n",
      "375/375 [==============================] - 2s 5ms/step - loss: 0.1230 - accuracy: 0.9635 - val_loss: 0.1107 - val_accuracy: 0.9666\n",
      "Epoch 3/5\n",
      "375/375 [==============================] - 3s 7ms/step - loss: 0.0807 - accuracy: 0.9758 - val_loss: 0.0911 - val_accuracy: 0.9737\n",
      "Epoch 4/5\n",
      "375/375 [==============================] - 2s 7ms/step - loss: 0.0576 - accuracy: 0.9835 - val_loss: 0.0846 - val_accuracy: 0.9762\n",
      "Epoch 5/5\n",
      "375/375 [==============================] - 2s 7ms/step - loss: 0.0424 - accuracy: 0.9872 - val_loss: 0.0807 - val_accuracy: 0.9765\n"
     ]
    },
    {
     "data": {
      "text/plain": [
       "<keras.callbacks.History at 0x132edbc50>"
      ]
     },
     "execution_count": 8,
     "metadata": {},
     "output_type": "execute_result"
    }
   ],
   "source": [
    "model.fit(train_images, train_labels, \n",
    "          epochs=5, \n",
    "          batch_size=128, \n",
    "          validation_split=0.2, verbose=1)"
   ]
  },
  {
   "cell_type": "markdown",
   "metadata": {},
   "source": [
    "#### STEP 4: EVALUATE MODEL ON UNSEEN TEST DATA"
   ]
  },
  {
   "cell_type": "code",
   "execution_count": 9,
   "metadata": {},
   "outputs": [
    {
     "name": "stdout",
     "output_type": "stream",
     "text": [
      "313/313 [==============================] - 1s 2ms/step - loss: 0.0678 - accuracy: 0.9787\n",
      "0.9786999821662903\n"
     ]
    }
   ],
   "source": [
    "loss, accuracy = model.evaluate(test_images, test_labels)\n",
    "print(accuracy)"
   ]
  },
  {
   "cell_type": "markdown",
   "metadata": {},
   "source": [
    "#### STEP 5: PREDICT CLASS"
   ]
  },
  {
   "cell_type": "code",
   "execution_count": 10,
   "metadata": {},
   "outputs": [
    {
     "name": "stdout",
     "output_type": "stream",
     "text": [
      "1/1 [==============================] - 0s 148ms/step\n"
     ]
    },
    {
     "data": {
      "text/plain": [
       "array([[3.8276971e-07, 1.2232002e-07, 7.2351636e-06, 9.9634439e-05,\n",
       "        3.6654117e-11, 1.4482663e-07, 2.0489065e-11, 9.9988163e-01,\n",
       "        2.7736899e-06, 8.0777618e-06]], dtype=float32)"
      ]
     },
     "execution_count": 10,
     "metadata": {},
     "output_type": "execute_result"
    }
   ],
   "source": [
    "model.predict(test_images[0:1])"
   ]
  },
  {
   "cell_type": "code",
   "execution_count": 11,
   "metadata": {},
   "outputs": [
    {
     "name": "stdout",
     "output_type": "stream",
     "text": [
      "1/1 [==============================] - 0s 24ms/step\n",
      "[7]\n"
     ]
    }
   ],
   "source": [
    "print(np.argmax(model.predict(test_images[0:1]), axis=-1))"
   ]
  },
  {
   "cell_type": "markdown",
   "metadata": {},
   "source": [
    "#### STEP 6: MODEL SUMMARY"
   ]
  },
  {
   "cell_type": "code",
   "execution_count": 12,
   "metadata": {},
   "outputs": [
    {
     "name": "stdout",
     "output_type": "stream",
     "text": [
      "Model: \"sequential\"\n",
      "_________________________________________________________________\n",
      " Layer (type)                Output Shape              Param #   \n",
      "=================================================================\n",
      " dense (Dense)               (None, 512)               401920    \n",
      "                                                                 \n",
      " dense_1 (Dense)             (None, 10)                5130      \n",
      "                                                                 \n",
      "=================================================================\n",
      "Total params: 407,050\n",
      "Trainable params: 407,050\n",
      "Non-trainable params: 0\n",
      "_________________________________________________________________\n"
     ]
    }
   ],
   "source": [
    "model.summary()"
   ]
  },
  {
   "cell_type": "markdown",
   "metadata": {},
   "source": [
    "#### STEP 7: SAVE MODEL"
   ]
  },
  {
   "cell_type": "code",
   "execution_count": 13,
   "metadata": {},
   "outputs": [],
   "source": [
    "model.save(\"mnist.h5\")"
   ]
  }
 ],
 "metadata": {
  "kernelspec": {
   "display_name": "Python 3",
   "language": "python",
   "name": "python3"
  },
  "language_info": {
   "codemirror_mode": {
    "name": "ipython",
    "version": 3
   },
   "file_extension": ".py",
   "mimetype": "text/x-python",
   "name": "python",
   "nbconvert_exporter": "python",
   "pygments_lexer": "ipython3",
   "version": "3.11.3"
  }
 },
 "nbformat": 4,
 "nbformat_minor": 2
}
